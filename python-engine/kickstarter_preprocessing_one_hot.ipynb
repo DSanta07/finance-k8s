{
 "cells": [
  {
   "cell_type": "markdown",
   "metadata": {},
   "source": [
    "# Kickstarter Preprocessing"
   ]
  },
  {
   "cell_type": "markdown",
   "metadata": {},
   "source": [
    "## Preprocess the data. Balance the dataset. Create 3 datasets: training, validation, and test. Save the newly created sets in a tensor friendly format (e.g. *.npz)"
   ]
  },
  {
   "cell_type": "code",
   "execution_count": 1,
   "metadata": {},
   "outputs": [],
   "source": [
    "#Import libraries \n",
    "import pandas as pd \n",
    "import matplotlib.pyplot as plt \n",
    "import numpy as np \n",
    "import tensorflow as tf\n",
    "from tensorflow import feature_column\n",
    "from tensorflow.keras import layers\n",
    "\n",
    "# We will use the sklearn preprocessing library, as it will be easier to standardize the data.\n",
    "from sklearn import preprocessing\n",
    "from sklearn.model_selection import train_test_split"
   ]
  },
  {
   "cell_type": "markdown",
   "metadata": {},
   "source": [
    "## Visualize the data"
   ]
  },
  {
   "cell_type": "code",
   "execution_count": 2,
   "metadata": {},
   "outputs": [
    {
     "output_type": "execute_result",
     "data": {
      "text/plain": "           ID                                               name  \\\n0  1000002330                    The Songs of Adelaide & Abullah   \n1  1000003930      Greeting From Earth: ZGAC Arts Capsule For ET   \n2  1000004038                                     Where is Hank?   \n3  1000007540  ToshiCapital Rekordz Needs Help to Complete Album   \n4  1000011046  Community Film Project: The Art of Neighborhoo...   \n\n         category main_category currency             deadline     goal  \\\n0          Poetry    Publishing      GBP  2015-10-09 00:00:00   1000.0   \n1  Narrative Film  Film & Video      USD  2017-11-01 00:00:00  30000.0   \n2  Narrative Film  Film & Video      USD  2013-02-26 00:00:00  45000.0   \n3           Music         Music      USD  2012-04-16 00:00:00   5000.0   \n4    Film & Video  Film & Video      USD  2015-08-29 00:00:00  19500.0   \n\n              launched  pledged     state  backers country  usd pledged  \\\n0  2015-08-11 12:12:28      0.0    failed        0      GB          0.0   \n1  2017-09-02 04:43:57   2421.0    failed       15      US        100.0   \n2  2013-01-12 00:20:50    220.0    failed        3      US        220.0   \n3  2012-03-17 03:24:11      1.0    failed        1      US          1.0   \n4  2015-07-04 08:35:03   1283.0  canceled       14      US       1283.0   \n\n   usd_pledged_real  usd_goal_real  launched_year                      period  \\\n0               0.0        1533.95           2015  58 days 11:47:32.000000000   \n1            2421.0       30000.00           2017  59 days 19:16:03.000000000   \n2             220.0       45000.00           2013  44 days 23:39:10.000000000   \n3               1.0        5000.00           2012  29 days 20:35:49.000000000   \n4            1283.0       19500.00           2015  55 days 15:24:57.000000000   \n\n   funded_ratio  \n0      0.000000  \n1      0.080700  \n2      0.004889  \n3      0.000200  \n4      0.065795  ",
      "text/html": "<div>\n<style scoped>\n    .dataframe tbody tr th:only-of-type {\n        vertical-align: middle;\n    }\n\n    .dataframe tbody tr th {\n        vertical-align: top;\n    }\n\n    .dataframe thead th {\n        text-align: right;\n    }\n</style>\n<table border=\"1\" class=\"dataframe\">\n  <thead>\n    <tr style=\"text-align: right;\">\n      <th></th>\n      <th>ID</th>\n      <th>name</th>\n      <th>category</th>\n      <th>main_category</th>\n      <th>currency</th>\n      <th>deadline</th>\n      <th>goal</th>\n      <th>launched</th>\n      <th>pledged</th>\n      <th>state</th>\n      <th>backers</th>\n      <th>country</th>\n      <th>usd pledged</th>\n      <th>usd_pledged_real</th>\n      <th>usd_goal_real</th>\n      <th>launched_year</th>\n      <th>period</th>\n      <th>funded_ratio</th>\n    </tr>\n  </thead>\n  <tbody>\n    <tr>\n      <th>0</th>\n      <td>1000002330</td>\n      <td>The Songs of Adelaide &amp; Abullah</td>\n      <td>Poetry</td>\n      <td>Publishing</td>\n      <td>GBP</td>\n      <td>2015-10-09 00:00:00</td>\n      <td>1000.0</td>\n      <td>2015-08-11 12:12:28</td>\n      <td>0.0</td>\n      <td>failed</td>\n      <td>0</td>\n      <td>GB</td>\n      <td>0.0</td>\n      <td>0.0</td>\n      <td>1533.95</td>\n      <td>2015</td>\n      <td>58 days 11:47:32.000000000</td>\n      <td>0.000000</td>\n    </tr>\n    <tr>\n      <th>1</th>\n      <td>1000003930</td>\n      <td>Greeting From Earth: ZGAC Arts Capsule For ET</td>\n      <td>Narrative Film</td>\n      <td>Film &amp; Video</td>\n      <td>USD</td>\n      <td>2017-11-01 00:00:00</td>\n      <td>30000.0</td>\n      <td>2017-09-02 04:43:57</td>\n      <td>2421.0</td>\n      <td>failed</td>\n      <td>15</td>\n      <td>US</td>\n      <td>100.0</td>\n      <td>2421.0</td>\n      <td>30000.00</td>\n      <td>2017</td>\n      <td>59 days 19:16:03.000000000</td>\n      <td>0.080700</td>\n    </tr>\n    <tr>\n      <th>2</th>\n      <td>1000004038</td>\n      <td>Where is Hank?</td>\n      <td>Narrative Film</td>\n      <td>Film &amp; Video</td>\n      <td>USD</td>\n      <td>2013-02-26 00:00:00</td>\n      <td>45000.0</td>\n      <td>2013-01-12 00:20:50</td>\n      <td>220.0</td>\n      <td>failed</td>\n      <td>3</td>\n      <td>US</td>\n      <td>220.0</td>\n      <td>220.0</td>\n      <td>45000.00</td>\n      <td>2013</td>\n      <td>44 days 23:39:10.000000000</td>\n      <td>0.004889</td>\n    </tr>\n    <tr>\n      <th>3</th>\n      <td>1000007540</td>\n      <td>ToshiCapital Rekordz Needs Help to Complete Album</td>\n      <td>Music</td>\n      <td>Music</td>\n      <td>USD</td>\n      <td>2012-04-16 00:00:00</td>\n      <td>5000.0</td>\n      <td>2012-03-17 03:24:11</td>\n      <td>1.0</td>\n      <td>failed</td>\n      <td>1</td>\n      <td>US</td>\n      <td>1.0</td>\n      <td>1.0</td>\n      <td>5000.00</td>\n      <td>2012</td>\n      <td>29 days 20:35:49.000000000</td>\n      <td>0.000200</td>\n    </tr>\n    <tr>\n      <th>4</th>\n      <td>1000011046</td>\n      <td>Community Film Project: The Art of Neighborhoo...</td>\n      <td>Film &amp; Video</td>\n      <td>Film &amp; Video</td>\n      <td>USD</td>\n      <td>2015-08-29 00:00:00</td>\n      <td>19500.0</td>\n      <td>2015-07-04 08:35:03</td>\n      <td>1283.0</td>\n      <td>canceled</td>\n      <td>14</td>\n      <td>US</td>\n      <td>1283.0</td>\n      <td>1283.0</td>\n      <td>19500.00</td>\n      <td>2015</td>\n      <td>55 days 15:24:57.000000000</td>\n      <td>0.065795</td>\n    </tr>\n  </tbody>\n</table>\n</div>"
     },
     "metadata": {},
     "execution_count": 2
    }
   ],
   "source": [
    "# GENERAL : Read the data set\n",
    "kickstarter = pd.read_csv('ks-projects-201801-clean.csv')\n",
    "kickstarter.head()"
   ]
  },
  {
   "cell_type": "code",
   "execution_count": 3,
   "metadata": {},
   "outputs": [
    {
     "output_type": "execute_result",
     "data": {
      "text/plain": "ID                    int64\nname                 object\ncategory             object\nmain_category        object\ncurrency             object\ndeadline             object\ngoal                float64\nlaunched             object\npledged             float64\nstate                object\nbackers               int64\ncountry              object\nusd pledged         float64\nusd_pledged_real    float64\nusd_goal_real       float64\nlaunched_year         int64\nperiod               object\nfunded_ratio        float64\ndtype: object"
     },
     "metadata": {},
     "execution_count": 3
    }
   ],
   "source": [
    "kickstarter.dtypes"
   ]
  },
  {
   "cell_type": "code",
   "execution_count": 4,
   "metadata": {},
   "outputs": [
    {
     "output_type": "execute_result",
     "data": {
      "text/plain": "  main_category     state  backers country  usd_pledged_real  usd_goal_real  \\\n0    Publishing    failed        0      GB               0.0        1533.95   \n1  Film & Video    failed       15      US            2421.0       30000.00   \n2  Film & Video    failed        3      US             220.0       45000.00   \n3         Music    failed        1      US               1.0        5000.00   \n4  Film & Video  canceled       14      US            1283.0       19500.00   \n\n                       period  funded_ratio  \n0  58 days 11:47:32.000000000      0.000000  \n1  59 days 19:16:03.000000000      0.080700  \n2  44 days 23:39:10.000000000      0.004889  \n3  29 days 20:35:49.000000000      0.000200  \n4  55 days 15:24:57.000000000      0.065795  ",
      "text/html": "<div>\n<style scoped>\n    .dataframe tbody tr th:only-of-type {\n        vertical-align: middle;\n    }\n\n    .dataframe tbody tr th {\n        vertical-align: top;\n    }\n\n    .dataframe thead th {\n        text-align: right;\n    }\n</style>\n<table border=\"1\" class=\"dataframe\">\n  <thead>\n    <tr style=\"text-align: right;\">\n      <th></th>\n      <th>main_category</th>\n      <th>state</th>\n      <th>backers</th>\n      <th>country</th>\n      <th>usd_pledged_real</th>\n      <th>usd_goal_real</th>\n      <th>period</th>\n      <th>funded_ratio</th>\n    </tr>\n  </thead>\n  <tbody>\n    <tr>\n      <th>0</th>\n      <td>Publishing</td>\n      <td>failed</td>\n      <td>0</td>\n      <td>GB</td>\n      <td>0.0</td>\n      <td>1533.95</td>\n      <td>58 days 11:47:32.000000000</td>\n      <td>0.000000</td>\n    </tr>\n    <tr>\n      <th>1</th>\n      <td>Film &amp; Video</td>\n      <td>failed</td>\n      <td>15</td>\n      <td>US</td>\n      <td>2421.0</td>\n      <td>30000.00</td>\n      <td>59 days 19:16:03.000000000</td>\n      <td>0.080700</td>\n    </tr>\n    <tr>\n      <th>2</th>\n      <td>Film &amp; Video</td>\n      <td>failed</td>\n      <td>3</td>\n      <td>US</td>\n      <td>220.0</td>\n      <td>45000.00</td>\n      <td>44 days 23:39:10.000000000</td>\n      <td>0.004889</td>\n    </tr>\n    <tr>\n      <th>3</th>\n      <td>Music</td>\n      <td>failed</td>\n      <td>1</td>\n      <td>US</td>\n      <td>1.0</td>\n      <td>5000.00</td>\n      <td>29 days 20:35:49.000000000</td>\n      <td>0.000200</td>\n    </tr>\n    <tr>\n      <th>4</th>\n      <td>Film &amp; Video</td>\n      <td>canceled</td>\n      <td>14</td>\n      <td>US</td>\n      <td>1283.0</td>\n      <td>19500.00</td>\n      <td>55 days 15:24:57.000000000</td>\n      <td>0.065795</td>\n    </tr>\n  </tbody>\n</table>\n</div>"
     },
     "metadata": {},
     "execution_count": 4
    }
   ],
   "source": [
    "# Remove columns that won't be used\n",
    "kickstarter = kickstarter.drop(['category','ID', 'name', 'deadline', 'launched', 'launched_year', 'currency', 'goal', 'pledged', 'usd pledged'], axis=1)\n",
    "kickstarter.head()"
   ]
  },
  {
   "cell_type": "code",
   "execution_count": 5,
   "metadata": {},
   "outputs": [
    {
     "output_type": "execute_result",
     "data": {
      "text/plain": "  main_category  state  backers country  usd_pledged_real  usd_goal_real  \\\n0    Publishing      0        0      GB               0.0        1533.95   \n1  Film & Video      0       15      US            2421.0       30000.00   \n2  Film & Video      0        3      US             220.0       45000.00   \n3         Music      0        1      US               1.0        5000.00   \n4  Film & Video      0       14      US            1283.0       19500.00   \n\n                       period  funded_ratio  \n0  58 days 11:47:32.000000000      0.000000  \n1  59 days 19:16:03.000000000      0.080700  \n2  44 days 23:39:10.000000000      0.004889  \n3  29 days 20:35:49.000000000      0.000200  \n4  55 days 15:24:57.000000000      0.065795  ",
      "text/html": "<div>\n<style scoped>\n    .dataframe tbody tr th:only-of-type {\n        vertical-align: middle;\n    }\n\n    .dataframe tbody tr th {\n        vertical-align: top;\n    }\n\n    .dataframe thead th {\n        text-align: right;\n    }\n</style>\n<table border=\"1\" class=\"dataframe\">\n  <thead>\n    <tr style=\"text-align: right;\">\n      <th></th>\n      <th>main_category</th>\n      <th>state</th>\n      <th>backers</th>\n      <th>country</th>\n      <th>usd_pledged_real</th>\n      <th>usd_goal_real</th>\n      <th>period</th>\n      <th>funded_ratio</th>\n    </tr>\n  </thead>\n  <tbody>\n    <tr>\n      <th>0</th>\n      <td>Publishing</td>\n      <td>0</td>\n      <td>0</td>\n      <td>GB</td>\n      <td>0.0</td>\n      <td>1533.95</td>\n      <td>58 days 11:47:32.000000000</td>\n      <td>0.000000</td>\n    </tr>\n    <tr>\n      <th>1</th>\n      <td>Film &amp; Video</td>\n      <td>0</td>\n      <td>15</td>\n      <td>US</td>\n      <td>2421.0</td>\n      <td>30000.00</td>\n      <td>59 days 19:16:03.000000000</td>\n      <td>0.080700</td>\n    </tr>\n    <tr>\n      <th>2</th>\n      <td>Film &amp; Video</td>\n      <td>0</td>\n      <td>3</td>\n      <td>US</td>\n      <td>220.0</td>\n      <td>45000.00</td>\n      <td>44 days 23:39:10.000000000</td>\n      <td>0.004889</td>\n    </tr>\n    <tr>\n      <th>3</th>\n      <td>Music</td>\n      <td>0</td>\n      <td>1</td>\n      <td>US</td>\n      <td>1.0</td>\n      <td>5000.00</td>\n      <td>29 days 20:35:49.000000000</td>\n      <td>0.000200</td>\n    </tr>\n    <tr>\n      <th>4</th>\n      <td>Film &amp; Video</td>\n      <td>0</td>\n      <td>14</td>\n      <td>US</td>\n      <td>1283.0</td>\n      <td>19500.00</td>\n      <td>55 days 15:24:57.000000000</td>\n      <td>0.065795</td>\n    </tr>\n  </tbody>\n</table>\n</div>"
     },
     "metadata": {},
     "execution_count": 5
    }
   ],
   "source": [
    "# Convert state column to numbers\n",
    "cleanup_state = {\"state\": {\"failed\": 0, \"canceled\": 0, \"successful\": 1}}\n",
    "kickstarter.replace(cleanup_state, inplace=True)\n",
    "kickstarter.head()"
   ]
  },
  {
   "cell_type": "code",
   "execution_count": 6,
   "metadata": {},
   "outputs": [
    {
     "output_type": "execute_result",
     "data": {
      "text/plain": "   counts percent\n0  233247   63.8%\n1  132266   36.2%",
      "text/html": "<div>\n<style scoped>\n    .dataframe tbody tr th:only-of-type {\n        vertical-align: middle;\n    }\n\n    .dataframe tbody tr th {\n        vertical-align: top;\n    }\n\n    .dataframe thead th {\n        text-align: right;\n    }\n</style>\n<table border=\"1\" class=\"dataframe\">\n  <thead>\n    <tr style=\"text-align: right;\">\n      <th></th>\n      <th>counts</th>\n      <th>percent</th>\n    </tr>\n  </thead>\n  <tbody>\n    <tr>\n      <th>0</th>\n      <td>233247</td>\n      <td>63.8%</td>\n    </tr>\n    <tr>\n      <th>1</th>\n      <td>132266</td>\n      <td>36.2%</td>\n    </tr>\n  </tbody>\n</table>\n</div>"
     },
     "metadata": {},
     "execution_count": 6
    }
   ],
   "source": [
    "# Count number of ones and ceros\n",
    "state_counts = kickstarter ['state'].value_counts()\n",
    "state_percent = kickstarter.state.value_counts(normalize=True).mul(100).round(1).astype(str)+'%'\n",
    "pd.DataFrame({'counts':state_counts,'percent': state_percent})"
   ]
  },
  {
   "cell_type": "code",
   "execution_count": 7,
   "metadata": {},
   "outputs": [],
   "source": [
    "# Parse days of period to integer\n",
    "kickstarter['period'] = kickstarter['period'].str[:2]"
   ]
  },
  {
   "cell_type": "code",
   "execution_count": 8,
   "metadata": {},
   "outputs": [],
   "source": [
    "kickstarter['main_category'] = kickstarter['main_category'].astype(str)\n",
    "kickstarter['state'] = kickstarter['state'].astype(int)\n",
    "kickstarter['backers'] = kickstarter['backers'].astype(int)\n",
    "kickstarter['country'] = kickstarter['country'].astype(str)\n",
    "kickstarter['usd_pledged_real'] = kickstarter['usd_pledged_real'].astype(float)\n",
    "kickstarter['usd_goal_real'] = kickstarter['usd_goal_real'].astype(float)\n",
    "kickstarter['period'] = kickstarter['period'].astype(int)\n",
    "kickstarter['funded_ratio'] = kickstarter['funded_ratio'].astype(float)"
   ]
  },
  {
   "cell_type": "code",
   "execution_count": 9,
   "metadata": {
    "scrolled": false
   },
   "outputs": [
    {
     "output_type": "execute_result",
     "data": {
      "text/plain": "main_category        object\nstate                 int32\nbackers               int32\ncountry              object\nusd_pledged_real    float64\nusd_goal_real       float64\nperiod                int32\nfunded_ratio        float64\ndtype: object"
     },
     "metadata": {},
     "execution_count": 9
    }
   ],
   "source": [
    "kickstarter.dtypes"
   ]
  },
  {
   "cell_type": "code",
   "execution_count": 10,
   "metadata": {},
   "outputs": [],
   "source": [
    "kickstarter['country'] = kickstarter['country'].str.replace('CA', 'Other')\n",
    "kickstarter['country'] = kickstarter['country'].str.replace('AU', 'Other')\n",
    "kickstarter['country'] = kickstarter['country'].str.replace('DE', 'Other')\n",
    "kickstarter['country'] = kickstarter['country'].str.replace('FR', 'Other')\n",
    "kickstarter['country'] = kickstarter['country'].str.replace('NL', 'Other')\n",
    "kickstarter['country'] = kickstarter['country'].str.replace('IT', 'Other')\n",
    "kickstarter['country'] = kickstarter['country'].str.replace('ES', 'Other')\n",
    "kickstarter['country'] = kickstarter['country'].str.replace('SE', 'Other')\n",
    "kickstarter['country'] = kickstarter['country'].str.replace('MX', 'Other')\n",
    "kickstarter['country'] = kickstarter['country'].str.replace('NZ', 'Other')\n",
    "kickstarter['country'] = kickstarter['country'].str.replace('DK', 'Other')\n",
    "kickstarter['country'] = kickstarter['country'].str.replace('IE', 'Other')\n",
    "kickstarter['country'] = kickstarter['country'].str.replace('CH', 'Other')\n",
    "kickstarter['country'] = kickstarter['country'].str.replace('NO', 'Other')\n",
    "kickstarter['country'] = kickstarter['country'].str.replace('BE', 'Other')\n",
    "kickstarter['country'] = kickstarter['country'].str.replace('AT', 'Other')\n",
    "kickstarter['country'] = kickstarter['country'].str.replace('HK', 'Other')\n",
    "kickstarter['country'] = kickstarter['country'].str.replace('SG', 'Other')\n",
    "kickstarter['country'] = kickstarter['country'].str.replace('LU', 'Other')\n",
    "kickstarter['country'] = kickstarter['country'].str.replace('JP', 'Other')"
   ]
  },
  {
   "cell_type": "code",
   "execution_count": 11,
   "metadata": {},
   "outputs": [
    {
     "output_type": "execute_result",
     "data": {
      "text/plain": "       counts percent\nUS     284972   78.0%\nOther   47328   12.9%\nGB      33213    9.1%",
      "text/html": "<div>\n<style scoped>\n    .dataframe tbody tr th:only-of-type {\n        vertical-align: middle;\n    }\n\n    .dataframe tbody tr th {\n        vertical-align: top;\n    }\n\n    .dataframe thead th {\n        text-align: right;\n    }\n</style>\n<table border=\"1\" class=\"dataframe\">\n  <thead>\n    <tr style=\"text-align: right;\">\n      <th></th>\n      <th>counts</th>\n      <th>percent</th>\n    </tr>\n  </thead>\n  <tbody>\n    <tr>\n      <th>US</th>\n      <td>284972</td>\n      <td>78.0%</td>\n    </tr>\n    <tr>\n      <th>Other</th>\n      <td>47328</td>\n      <td>12.9%</td>\n    </tr>\n    <tr>\n      <th>GB</th>\n      <td>33213</td>\n      <td>9.1%</td>\n    </tr>\n  </tbody>\n</table>\n</div>"
     },
     "metadata": {},
     "execution_count": 11
    }
   ],
   "source": [
    "#How many values of country do we have?\n",
    "country_counts = kickstarter ['country'].value_counts()\n",
    "country_percent = kickstarter.country.value_counts(normalize=True).mul(100).round(1).astype(str)+'%'\n",
    "pd.DataFrame({'counts':country_counts,'percent': country_percent})"
   ]
  },
  {
   "cell_type": "code",
   "execution_count": 12,
   "metadata": {},
   "outputs": [],
   "source": [
    "kicsktarter_example_json_input = kickstarter.iloc[0]\n",
    "kicsktarter_example_json_input.to_json('kicsktarter_example_json_input')"
   ]
  },
  {
   "cell_type": "code",
   "execution_count": 13,
   "metadata": {
    "scrolled": true
   },
   "outputs": [],
   "source": [
    "# One-hot encoding for country\n",
    "kickstarter = pd.get_dummies(kickstarter, columns=[\"country\"])"
   ]
  },
  {
   "cell_type": "code",
   "execution_count": 14,
   "metadata": {},
   "outputs": [],
   "source": [
    "# One-hot encoding for main_category\n",
    "kickstarter = pd.get_dummies(kickstarter, columns=[\"main_category\"])"
   ]
  },
  {
   "cell_type": "code",
   "execution_count": 15,
   "metadata": {},
   "outputs": [
    {
     "output_type": "execute_result",
     "data": {
      "text/plain": "   state  backers  usd_pledged_real  usd_goal_real  period  funded_ratio  \\\n0      0        0               0.0        1533.95      58      0.000000   \n1      0       15            2421.0       30000.00      59      0.080700   \n2      0        3             220.0       45000.00      44      0.004889   \n3      0        1               1.0        5000.00      29      0.000200   \n4      0       14            1283.0       19500.00      55      0.065795   \n\n   country_GB  country_Other  country_US  main_category_Art  ...  \\\n0           1              0           0                  0  ...   \n1           0              0           1                  0  ...   \n2           0              0           1                  0  ...   \n3           0              0           1                  0  ...   \n4           0              0           1                  0  ...   \n\n   main_category_Fashion  main_category_Film & Video  main_category_Food  \\\n0                      0                           0                   0   \n1                      0                           1                   0   \n2                      0                           1                   0   \n3                      0                           0                   0   \n4                      0                           1                   0   \n\n   main_category_Games  main_category_Journalism  main_category_Music  \\\n0                    0                         0                    0   \n1                    0                         0                    0   \n2                    0                         0                    0   \n3                    0                         0                    1   \n4                    0                         0                    0   \n\n   main_category_Photography  main_category_Publishing  \\\n0                          0                         1   \n1                          0                         0   \n2                          0                         0   \n3                          0                         0   \n4                          0                         0   \n\n   main_category_Technology  main_category_Theater  \n0                         0                      0  \n1                         0                      0  \n2                         0                      0  \n3                         0                      0  \n4                         0                      0  \n\n[5 rows x 24 columns]",
      "text/html": "<div>\n<style scoped>\n    .dataframe tbody tr th:only-of-type {\n        vertical-align: middle;\n    }\n\n    .dataframe tbody tr th {\n        vertical-align: top;\n    }\n\n    .dataframe thead th {\n        text-align: right;\n    }\n</style>\n<table border=\"1\" class=\"dataframe\">\n  <thead>\n    <tr style=\"text-align: right;\">\n      <th></th>\n      <th>state</th>\n      <th>backers</th>\n      <th>usd_pledged_real</th>\n      <th>usd_goal_real</th>\n      <th>period</th>\n      <th>funded_ratio</th>\n      <th>country_GB</th>\n      <th>country_Other</th>\n      <th>country_US</th>\n      <th>main_category_Art</th>\n      <th>...</th>\n      <th>main_category_Fashion</th>\n      <th>main_category_Film &amp; Video</th>\n      <th>main_category_Food</th>\n      <th>main_category_Games</th>\n      <th>main_category_Journalism</th>\n      <th>main_category_Music</th>\n      <th>main_category_Photography</th>\n      <th>main_category_Publishing</th>\n      <th>main_category_Technology</th>\n      <th>main_category_Theater</th>\n    </tr>\n  </thead>\n  <tbody>\n    <tr>\n      <th>0</th>\n      <td>0</td>\n      <td>0</td>\n      <td>0.0</td>\n      <td>1533.95</td>\n      <td>58</td>\n      <td>0.000000</td>\n      <td>1</td>\n      <td>0</td>\n      <td>0</td>\n      <td>0</td>\n      <td>...</td>\n      <td>0</td>\n      <td>0</td>\n      <td>0</td>\n      <td>0</td>\n      <td>0</td>\n      <td>0</td>\n      <td>0</td>\n      <td>1</td>\n      <td>0</td>\n      <td>0</td>\n    </tr>\n    <tr>\n      <th>1</th>\n      <td>0</td>\n      <td>15</td>\n      <td>2421.0</td>\n      <td>30000.00</td>\n      <td>59</td>\n      <td>0.080700</td>\n      <td>0</td>\n      <td>0</td>\n      <td>1</td>\n      <td>0</td>\n      <td>...</td>\n      <td>0</td>\n      <td>1</td>\n      <td>0</td>\n      <td>0</td>\n      <td>0</td>\n      <td>0</td>\n      <td>0</td>\n      <td>0</td>\n      <td>0</td>\n      <td>0</td>\n    </tr>\n    <tr>\n      <th>2</th>\n      <td>0</td>\n      <td>3</td>\n      <td>220.0</td>\n      <td>45000.00</td>\n      <td>44</td>\n      <td>0.004889</td>\n      <td>0</td>\n      <td>0</td>\n      <td>1</td>\n      <td>0</td>\n      <td>...</td>\n      <td>0</td>\n      <td>1</td>\n      <td>0</td>\n      <td>0</td>\n      <td>0</td>\n      <td>0</td>\n      <td>0</td>\n      <td>0</td>\n      <td>0</td>\n      <td>0</td>\n    </tr>\n    <tr>\n      <th>3</th>\n      <td>0</td>\n      <td>1</td>\n      <td>1.0</td>\n      <td>5000.00</td>\n      <td>29</td>\n      <td>0.000200</td>\n      <td>0</td>\n      <td>0</td>\n      <td>1</td>\n      <td>0</td>\n      <td>...</td>\n      <td>0</td>\n      <td>0</td>\n      <td>0</td>\n      <td>0</td>\n      <td>0</td>\n      <td>1</td>\n      <td>0</td>\n      <td>0</td>\n      <td>0</td>\n      <td>0</td>\n    </tr>\n    <tr>\n      <th>4</th>\n      <td>0</td>\n      <td>14</td>\n      <td>1283.0</td>\n      <td>19500.00</td>\n      <td>55</td>\n      <td>0.065795</td>\n      <td>0</td>\n      <td>0</td>\n      <td>1</td>\n      <td>0</td>\n      <td>...</td>\n      <td>0</td>\n      <td>1</td>\n      <td>0</td>\n      <td>0</td>\n      <td>0</td>\n      <td>0</td>\n      <td>0</td>\n      <td>0</td>\n      <td>0</td>\n      <td>0</td>\n    </tr>\n  </tbody>\n</table>\n<p>5 rows × 24 columns</p>\n</div>"
     },
     "metadata": {},
     "execution_count": 15
    }
   ],
   "source": [
    "kickstarter.head()"
   ]
  },
  {
   "cell_type": "code",
   "execution_count": 17,
   "metadata": {},
   "outputs": [],
   "source": [
    "kickstarter_one_hot_to_npz_example = kickstarter.iloc[0]\n",
    "kickstarter_one_hot_to_npz_example.to_json('kickstarter_one_hot_to_npz_example.json')"
   ]
  },
  {
   "cell_type": "code",
   "execution_count": 19,
   "metadata": {},
   "outputs": [
    {
     "output_type": "execute_result",
     "data": {
      "text/plain": "state                           int32\nbackers                         int32\nusd_pledged_real              float64\nusd_goal_real                 float64\nperiod                          int32\nfunded_ratio                  float64\ncountry_GB                      uint8\ncountry_Other                   uint8\ncountry_US                      uint8\nmain_category_Art               uint8\nmain_category_Comics            uint8\nmain_category_Crafts            uint8\nmain_category_Dance             uint8\nmain_category_Design            uint8\nmain_category_Fashion           uint8\nmain_category_Film & Video      uint8\nmain_category_Food              uint8\nmain_category_Games             uint8\nmain_category_Journalism        uint8\nmain_category_Music             uint8\nmain_category_Photography       uint8\nmain_category_Publishing        uint8\nmain_category_Technology        uint8\nmain_category_Theater           uint8\ndtype: object"
     },
     "metadata": {},
     "execution_count": 19
    }
   ],
   "source": [
    "kickstarter.dtypes"
   ]
  },
  {
   "cell_type": "code",
   "execution_count": null,
   "metadata": {},
   "outputs": [],
   "source": [
    "# Pandas Dataframe to Numpy Array\n",
    "numpyMatrix = kickstarter.to_numpy().astype(float)"
   ]
  },
  {
   "cell_type": "code",
   "execution_count": null,
   "metadata": {},
   "outputs": [],
   "source": [
    "#SAVING THE FILE\n",
    "np.savetxt('ks-projects-201801-one-hot.csv', numpyMatrix, delimiter=',')"
   ]
  }
 ],
 "metadata": {
  "kernelspec": {
   "display_name": "Python 3.7.7 64-bit ('tf': conda)",
   "language": "python",
   "name": "python37764bittfcondacb9473150141438aac76f616c90c56d5"
  },
  "language_info": {
   "codemirror_mode": {
    "name": "ipython",
    "version": 3
   },
   "file_extension": ".py",
   "mimetype": "text/x-python",
   "name": "python",
   "nbconvert_exporter": "python",
   "pygments_lexer": "ipython3",
   "version": "3.7.7-final"
  }
 },
 "nbformat": 4,
 "nbformat_minor": 2
}