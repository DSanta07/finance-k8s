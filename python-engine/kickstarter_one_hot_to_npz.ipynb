{
 "cells": [
  {
   "cell_type": "markdown",
   "metadata": {},
   "source": [
    "# Kickstarter one-hot Encoding to npz"
   ]
  },
  {
   "cell_type": "markdown",
   "metadata": {},
   "source": [
    "### Extract the data from the csv"
   ]
  },
  {
   "cell_type": "code",
   "execution_count": 7,
   "metadata": {},
   "outputs": [],
   "source": [
    "import numpy as np\n",
    "from sklearn import preprocessing\n",
    "from pickle import dump\n"
   ]
  },
  {
   "cell_type": "code",
   "execution_count": null,
   "metadata": {},
   "outputs": [],
   "source": [
    "raw_csv_data = np.loadtxt('ks-projects-201801-one-hot.csv', delimiter = ',')\n",
    "unscaled_inputs_all = raw_csv_data[:,1:]\n",
    "targets_all = raw_csv_data[:,0]"
   ]
  },
  {
   "cell_type": "markdown",
   "metadata": {},
   "source": [
    "### Balance the dataset"
   ]
  },
  {
   "cell_type": "code",
   "execution_count": 2,
   "metadata": {},
   "outputs": [],
   "source": [
    "num_one_targets = int(np.sum(targets_all))\n",
    "zero_targets_counter = 0\n",
    "indices_to_remove = []\n",
    "\n",
    "for i in range(targets_all.shape[0]):\n",
    "    if targets_all[i] == 0:\n",
    "        zero_targets_counter += 1\n",
    "        if zero_targets_counter > num_one_targets:\n",
    "            indices_to_remove.append(i)\n",
    "            \n",
    "unscaled_inputs_equal_priors = np.delete(unscaled_inputs_all, indices_to_remove, axis = 0)\n",
    "targets_equal_priors = np.delete(targets_all, indices_to_remove, axis=0)"
   ]
  },
  {
   "cell_type": "markdown",
   "metadata": {},
   "source": [
    "### Standardize the inputs"
   ]
  },
  {
   "cell_type": "code",
   "execution_count": 3,
   "metadata": {},
   "outputs": [
    {
     "data": {
      "text/plain": [
       "StandardScaler()"
      ]
     },
     "execution_count": 3,
     "metadata": {},
     "output_type": "execute_result"
    }
   ],
   "source": [
    "scaler = preprocessing.StandardScaler().fit(unscaled_inputs_equal_priors)\n",
    "scaler"
   ]
  },
  {
   "cell_type": "code",
   "execution_count": 4,
   "metadata": {},
   "outputs": [
    {
     "data": {
      "text/plain": [
       "array([1.42078440e+02, 1.21598771e+04, 3.67868902e+04, 3.21497626e+01,\n",
       "       4.50890888e+00, 9.10173438e-02, 1.22287663e-01, 7.86694993e-01,\n",
       "       7.75596147e-02, 3.21549000e-02, 2.20842847e-02, 1.17188091e-02,\n",
       "       8.02057974e-02, 5.67454977e-02, 1.68236735e-01, 6.20756657e-02,\n",
       "       9.47749233e-02, 1.14012671e-02, 1.41219210e-01, 2.76979723e-02,\n",
       "       1.02959188e-01, 7.79565421e-02, 3.32095928e-02])"
      ]
     },
     "execution_count": 4,
     "metadata": {},
     "output_type": "execute_result"
    }
   ],
   "source": [
    "scaler.mean_"
   ]
  },
  {
   "cell_type": "code",
   "execution_count": 5,
   "metadata": {},
   "outputs": [
    {
     "data": {
      "text/plain": [
       "array([1.07909827e+03, 1.08039035e+05, 1.01169771e+06, 1.14186753e+01,\n",
       "       3.19138422e+02, 2.87633772e-01, 3.27617750e-01, 4.09641283e-01,\n",
       "       2.67477328e-01, 1.76411344e-01, 1.46957712e-01, 1.07617278e-01,\n",
       "       2.71611538e-01, 2.31355670e-01, 3.74076377e-01, 2.41292929e-01,\n",
       "       2.92903802e-01, 1.06166276e-01, 3.48247533e-01, 1.64106047e-01,\n",
       "       3.03905567e-01, 2.68103188e-01, 1.79183469e-01])"
      ]
     },
     "execution_count": 5,
     "metadata": {},
     "output_type": "execute_result"
    }
   ],
   "source": [
    "scaler.scale_"
   ]
  },
  {
   "cell_type": "code",
   "execution_count": 6,
   "metadata": {},
   "outputs": [
    {
     "data": {
      "text/plain": [
       "array([[-0.13166404, -0.11255077, -0.03484533, ...,  2.95170904,\n",
       "        -0.29077066, -0.18533849],\n",
       "       [-0.11776355, -0.09014221, -0.00670842, ..., -0.33878678,\n",
       "        -0.29077066, -0.18533849],\n",
       "       [-0.12888394, -0.11051447,  0.00811815, ..., -0.33878678,\n",
       "        -0.29077066, -0.18533849],\n",
       "       ...,\n",
       "       [-0.10293635, -0.09651935, -0.03542253, ...,  2.95170904,\n",
       "        -0.29077066, -0.18533849],\n",
       "       [-0.05938147, -0.06642217, -0.03188411, ..., -0.33878678,\n",
       "        -0.29077066, -0.18533849],\n",
       "       [-0.09830285, -0.08593234, -0.03371729, ..., -0.33878678,\n",
       "        -0.29077066, -0.18533849]])"
      ]
     },
     "execution_count": 6,
     "metadata": {},
     "output_type": "execute_result"
    }
   ],
   "source": [
    "scaler.transform(unscaled_inputs_equal_priors)"
   ]
  },
  {
   "cell_type": "code",
   "execution_count": 8,
   "metadata": {},
   "outputs": [],
   "source": [
    "# Save the scaler\n",
    "dump(scaler, open('scaler_kicsktarter_v1.pkl', 'wb'))"
   ]
  },
  {
   "cell_type": "code",
   "execution_count": 3,
   "metadata": {
    "scrolled": true
   },
   "outputs": [
    {
     "name": "stderr",
     "output_type": "stream",
     "text": [
      "C:\\Users\\David\\Anaconda3\\envs\\tf\\lib\\site-packages\\sklearn\\preprocessing\\_data.py:174: UserWarning: Numerical issues were encountered when centering the data and might not be solved. Dataset may contain too large values. You may need to prescale your features.\n",
      "  warnings.warn(\"Numerical issues were encountered \"\n"
     ]
    }
   ],
   "source": [
    "scaled_inputs = preprocessing.scale(unscaled_inputs_equal_priors)"
   ]
  },
  {
   "cell_type": "code",
   "execution_count": 4,
   "metadata": {},
   "outputs": [
    {
     "data": {
      "text/plain": [
       "array([[-0.13166404, -0.11255077, -0.03484533, ...,  2.95170904,\n",
       "        -0.29077066, -0.18533849],\n",
       "       [-0.11776355, -0.09014221, -0.00670842, ..., -0.33878678,\n",
       "        -0.29077066, -0.18533849],\n",
       "       [-0.12888394, -0.11051447,  0.00811815, ..., -0.33878678,\n",
       "        -0.29077066, -0.18533849],\n",
       "       ...,\n",
       "       [-0.10293635, -0.09651935, -0.03542253, ...,  2.95170904,\n",
       "        -0.29077066, -0.18533849],\n",
       "       [-0.05938147, -0.06642217, -0.03188411, ..., -0.33878678,\n",
       "        -0.29077066, -0.18533849],\n",
       "       [-0.09830285, -0.08593234, -0.03371729, ..., -0.33878678,\n",
       "        -0.29077066, -0.18533849]])"
      ]
     },
     "execution_count": 4,
     "metadata": {},
     "output_type": "execute_result"
    }
   ],
   "source": [
    "scaled_inputs"
   ]
  },
  {
   "cell_type": "markdown",
   "metadata": {},
   "source": [
    "### Shuffle the data"
   ]
  },
  {
   "cell_type": "code",
   "execution_count": 5,
   "metadata": {},
   "outputs": [],
   "source": [
    "shuffled_indices = np.arange(scaled_inputs.shape[0])\n",
    "np.random.shuffle(shuffled_indices)\n",
    "\n",
    "shuffled_inputs = scaled_inputs[shuffled_indices]\n",
    "shuffled_targets = targets_equal_priors[shuffled_indices]"
   ]
  },
  {
   "cell_type": "markdown",
   "metadata": {},
   "source": [
    "### Split the dataset into train, validation, and test"
   ]
  },
  {
   "cell_type": "code",
   "execution_count": 6,
   "metadata": {},
   "outputs": [
    {
     "name": "stdout",
     "output_type": "stream",
     "text": [
      "105720.0 211625 0.49956290608387477\n",
      "13290.0 26453 0.5024004838770649\n",
      "13256.0 26454 0.5010962425342104\n"
     ]
    }
   ],
   "source": [
    "samples_count = shuffled_inputs.shape[0]\n",
    "\n",
    "train_samples_count = int(0.8*samples_count)\n",
    "validation_samples_count = int(0.1*samples_count)\n",
    "test_samples_count = samples_count - train_samples_count - validation_samples_count\n",
    "\n",
    "train_inputs = shuffled_inputs[:train_samples_count]\n",
    "train_targets = shuffled_targets[:train_samples_count]\n",
    "\n",
    "validation_inputs = shuffled_inputs[train_samples_count:train_samples_count+validation_samples_count]\n",
    "validation_targets = shuffled_targets[train_samples_count:train_samples_count+validation_samples_count]\n",
    "\n",
    "test_inputs = shuffled_inputs[train_samples_count+validation_samples_count:]\n",
    "test_targets = shuffled_targets[train_samples_count+validation_samples_count:]\n",
    "\n",
    "print(np.sum(train_targets), train_samples_count, np.sum(train_targets) / train_samples_count)\n",
    "print(np.sum(validation_targets), validation_samples_count, np.sum(validation_targets) / validation_samples_count)\n",
    "print(np.sum(test_targets), test_samples_count, np.sum(test_targets) / test_samples_count)"
   ]
  },
  {
   "cell_type": "markdown",
   "metadata": {},
   "source": [
    "### Save the three datasets in *.npz"
   ]
  },
  {
   "cell_type": "code",
   "execution_count": 7,
   "metadata": {},
   "outputs": [],
   "source": [
    "np.savez('kickstarter_data_train', inputs=train_inputs, targets=train_targets)\n",
    "np.savez('kickstarter_data_validation', inputs=validation_inputs, targets=validation_targets)\n",
    "np.savez('kickstarter_data_test', inputs=test_inputs, targets=test_targets)"
   ]
  }
 ],
 "metadata": {
  "kernelspec": {
   "display_name": "Python 3.7.7 64-bit ('tf': conda)",
   "language": "python",
   "name": "python37764bittfcondacb9473150141438aac76f616c90c56d5"
  },
  "language_info": {
   "codemirror_mode": {
    "name": "ipython",
    "version": 3
   },
   "file_extension": ".py",
   "mimetype": "text/x-python",
   "name": "python",
   "nbconvert_exporter": "python",
   "pygments_lexer": "ipython3",
   "version": "3.7.7"
  }
 },
 "nbformat": 4,
 "nbformat_minor": 2
}
