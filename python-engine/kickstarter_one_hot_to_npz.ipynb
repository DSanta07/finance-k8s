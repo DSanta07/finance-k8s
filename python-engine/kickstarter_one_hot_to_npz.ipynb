{
 "cells": [
  {
   "cell_type": "markdown",
   "metadata": {},
   "source": [
    "# Kickstarter one-hot Encoding to npz"
   ]
  },
  {
   "cell_type": "markdown",
   "metadata": {},
   "source": [
    "### Extract the data from the csv"
   ]
  },
  {
   "cell_type": "code",
   "execution_count": 1,
   "metadata": {},
   "outputs": [],
   "source": [
    "import numpy as np\n",
    "from sklearn import preprocessing\n",
    "from pickle import dump\n"
   ]
  },
  {
   "cell_type": "code",
   "execution_count": 17,
   "metadata": {
    "tags": []
   },
   "outputs": [
    {
     "output_type": "stream",
     "name": "stdout",
     "text": "(365513, 20)\n"
    }
   ],
   "source": [
    "raw_csv_data = np.loadtxt('ks-projects-201801-one-hot-v4.csv', delimiter = ',')\n",
    "unscaled_inputs_all = raw_csv_data[:,1:]\n",
    "targets_all = raw_csv_data[:,0]\n",
    "print(unscaled_inputs_all.shape)\n"
   ]
  },
  {
   "cell_type": "markdown",
   "metadata": {},
   "source": [
    "### Balance the dataset"
   ]
  },
  {
   "cell_type": "code",
   "execution_count": null,
   "metadata": {},
   "outputs": [],
   "source": []
  },
  {
   "cell_type": "code",
   "execution_count": 6,
   "metadata": {},
   "outputs": [],
   "source": [
    "num_one_targets = int(np.sum(targets_all))\n",
    "zero_targets_counter = 0\n",
    "indices_to_remove = []\n",
    "\n",
    "for i in range(targets_all.shape[0]):\n",
    "    if targets_all[i] == 0:\n",
    "        zero_targets_counter += 1\n",
    "        if zero_targets_counter > num_one_targets:\n",
    "            indices_to_remove.append(i)\n",
    "            \n",
    "unscaled_inputs_equal_priors = np.delete(unscaled_inputs_all, indices_to_remove, axis = 0)\n",
    "targets_equal_priors = np.delete(targets_all, indices_to_remove, axis=0)"
   ]
  },
  {
   "cell_type": "markdown",
   "metadata": {},
   "source": [
    "### Standardize the inputs"
   ]
  },
  {
   "cell_type": "code",
   "execution_count": 7,
   "metadata": {},
   "outputs": [
    {
     "output_type": "execute_result",
     "data": {
      "text/plain": "StandardScaler()"
     },
     "metadata": {},
     "execution_count": 7
    }
   ],
   "source": [
    "scaler = preprocessing.StandardScaler().fit(unscaled_inputs_equal_priors)\n",
    "scaler"
   ]
  },
  {
   "cell_type": "code",
   "execution_count": 8,
   "metadata": {},
   "outputs": [
    {
     "output_type": "execute_result",
     "data": {
      "text/plain": "array([3.67868902e+04, 3.21497626e+01, 9.10173438e-02, 1.22287663e-01,\n       7.86694993e-01, 7.75596147e-02, 3.21549000e-02, 2.20842847e-02,\n       1.17188091e-02, 8.02057974e-02, 5.67454977e-02, 1.68236735e-01,\n       6.20756657e-02, 9.47749233e-02, 1.14012671e-02, 1.41219210e-01,\n       2.76979723e-02, 1.02959188e-01, 7.79565421e-02, 3.32095928e-02])"
     },
     "metadata": {},
     "execution_count": 8
    }
   ],
   "source": [
    "scaler.mean_"
   ]
  },
  {
   "cell_type": "code",
   "execution_count": 9,
   "metadata": {},
   "outputs": [
    {
     "output_type": "execute_result",
     "data": {
      "text/plain": "array([1.01169771e+06, 1.14186753e+01, 2.87633772e-01, 3.27617750e-01,\n       4.09641283e-01, 2.67477328e-01, 1.76411344e-01, 1.46957712e-01,\n       1.07617278e-01, 2.71611538e-01, 2.31355670e-01, 3.74076377e-01,\n       2.41292929e-01, 2.92903802e-01, 1.06166276e-01, 3.48247533e-01,\n       1.64106047e-01, 3.03905567e-01, 2.68103188e-01, 1.79183469e-01])"
     },
     "metadata": {},
     "execution_count": 9
    }
   ],
   "source": [
    "scaler.scale_"
   ]
  },
  {
   "cell_type": "code",
   "execution_count": 10,
   "metadata": {},
   "outputs": [
    {
     "output_type": "execute_result",
     "data": {
      "text/plain": "array([[-0.03484533,  2.26385607,  3.16020838, ...,  2.95170904,\n        -0.29077066, -0.18533849],\n       [-0.00670842,  2.3514319 , -0.31643483, ..., -0.33878678,\n        -0.29077066, -0.18533849],\n       [ 0.00811815,  1.03779441, -0.31643483, ..., -0.33878678,\n        -0.29077066, -0.18533849],\n       ...,\n       [-0.03542253,  0.86264274, -0.31643483, ...,  2.95170904,\n        -0.29077066, -0.18533849],\n       [-0.03188411, -0.27584308, -0.31643483, ..., -0.33878678,\n        -0.29077066, -0.18533849],\n       [-0.03371729, -0.27584308, -0.31643483, ..., -0.33878678,\n        -0.29077066, -0.18533849]])"
     },
     "metadata": {},
     "execution_count": 10
    }
   ],
   "source": [
    "scaler.transform(unscaled_inputs_equal_priors)"
   ]
  },
  {
   "cell_type": "code",
   "execution_count": 11,
   "metadata": {},
   "outputs": [],
   "source": [
    "# Save the scaler\n",
    "dump(scaler, open('scaler_kicsktarter_v4.pkl', 'wb'))"
   ]
  },
  {
   "cell_type": "code",
   "execution_count": 12,
   "metadata": {
    "scrolled": true
   },
   "outputs": [],
   "source": [
    "scaled_inputs = preprocessing.scale(unscaled_inputs_equal_priors)"
   ]
  },
  {
   "cell_type": "code",
   "execution_count": 13,
   "metadata": {},
   "outputs": [
    {
     "output_type": "execute_result",
     "data": {
      "text/plain": "array([[-0.03484533,  2.26385607,  3.16020838, ...,  2.95170904,\n        -0.29077066, -0.18533849],\n       [-0.00670842,  2.3514319 , -0.31643483, ..., -0.33878678,\n        -0.29077066, -0.18533849],\n       [ 0.00811815,  1.03779441, -0.31643483, ..., -0.33878678,\n        -0.29077066, -0.18533849],\n       ...,\n       [-0.03542253,  0.86264274, -0.31643483, ...,  2.95170904,\n        -0.29077066, -0.18533849],\n       [-0.03188411, -0.27584308, -0.31643483, ..., -0.33878678,\n        -0.29077066, -0.18533849],\n       [-0.03371729, -0.27584308, -0.31643483, ..., -0.33878678,\n        -0.29077066, -0.18533849]])"
     },
     "metadata": {},
     "execution_count": 13
    }
   ],
   "source": [
    "scaled_inputs"
   ]
  },
  {
   "cell_type": "markdown",
   "metadata": {},
   "source": [
    "### Shuffle the data"
   ]
  },
  {
   "cell_type": "code",
   "execution_count": 14,
   "metadata": {},
   "outputs": [],
   "source": [
    "shuffled_indices = np.arange(scaled_inputs.shape[0])\n",
    "np.random.shuffle(shuffled_indices)\n",
    "\n",
    "shuffled_inputs = scaled_inputs[shuffled_indices]\n",
    "shuffled_targets = targets_equal_priors[shuffled_indices]"
   ]
  },
  {
   "cell_type": "markdown",
   "metadata": {},
   "source": [
    "### Split the dataset into train, validation, and test"
   ]
  },
  {
   "cell_type": "code",
   "execution_count": 15,
   "metadata": {
    "tags": []
   },
   "outputs": [
    {
     "output_type": "stream",
     "name": "stdout",
     "text": "105932.0 211625 0.5005646780862375\n13199.0 26453 0.4989604203682002\n13135.0 26454 0.49652226506388447\n"
    }
   ],
   "source": [
    "samples_count = shuffled_inputs.shape[0]\n",
    "\n",
    "train_samples_count = int(0.8*samples_count)\n",
    "validation_samples_count = int(0.1*samples_count)\n",
    "test_samples_count = samples_count - train_samples_count - validation_samples_count\n",
    "\n",
    "train_inputs = shuffled_inputs[:train_samples_count]\n",
    "train_targets = shuffled_targets[:train_samples_count]\n",
    "\n",
    "validation_inputs = shuffled_inputs[train_samples_count:train_samples_count+validation_samples_count]\n",
    "validation_targets = shuffled_targets[train_samples_count:train_samples_count+validation_samples_count]\n",
    "\n",
    "test_inputs = shuffled_inputs[train_samples_count+validation_samples_count:]\n",
    "test_targets = shuffled_targets[train_samples_count+validation_samples_count:]\n",
    "\n",
    "print(np.sum(train_targets), train_samples_count, np.sum(train_targets) / train_samples_count)\n",
    "print(np.sum(validation_targets), validation_samples_count, np.sum(validation_targets) / validation_samples_count)\n",
    "print(np.sum(test_targets), test_samples_count, np.sum(test_targets) / test_samples_count)"
   ]
  },
  {
   "cell_type": "markdown",
   "metadata": {},
   "source": [
    "### Save the three datasets in *.npz"
   ]
  },
  {
   "cell_type": "code",
   "execution_count": 16,
   "metadata": {},
   "outputs": [],
   "source": [
    "np.savez('kickstarter_data_train_v4', inputs=train_inputs, targets=train_targets)\n",
    "np.savez('kickstarter_data_validation_v4', inputs=validation_inputs, targets=validation_targets)\n",
    "np.savez('kickstarter_data_test_v4', inputs=test_inputs, targets=test_targets)"
   ]
  },
  {
   "cell_type": "code",
   "execution_count": null,
   "metadata": {},
   "outputs": [],
   "source": []
  }
 ],
 "metadata": {
  "kernelspec": {
   "display_name": "Python 3.8.3 64-bit ('env': venv)",
   "language": "python",
   "name": "python_defaultSpec_1595981044587"
  },
  "language_info": {
   "codemirror_mode": {
    "name": "ipython",
    "version": 3
   },
   "file_extension": ".py",
   "mimetype": "text/x-python",
   "name": "python",
   "nbconvert_exporter": "python",
   "pygments_lexer": "ipython3",
   "version": "3.7.7"
  }
 },
 "nbformat": 4,
 "nbformat_minor": 2
}