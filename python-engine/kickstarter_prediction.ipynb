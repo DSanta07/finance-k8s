{
 "cells": [
  {
   "cell_type": "code",
   "execution_count": 2,
   "metadata": {},
   "outputs": [],
   "source": [
    "#Import libraries \n",
    "import pandas as pd \n",
    "# load model and scaler and make predictions on new data\n",
    "from sklearn.datasets import make_blobs\n",
    "from sklearn.model_selection import train_test_split\n",
    "from sklearn.metrics import accuracy_score\n",
    "from pickle import load"
   ]
  },
  {
   "cell_type": "markdown",
   "metadata": {},
   "source": [
    "### Load scaler"
   ]
  },
  {
   "cell_type": "code",
   "execution_count": null,
   "metadata": {},
   "outputs": [],
   "source": [
    "scaler = load(open('scaler_kicsktarter_v1.pkl', 'rb'))"
   ]
  },
  {
   "cell_type": "code",
   "execution_count": 3,
   "metadata": {},
   "outputs": [
    {
     "output_type": "execute_result",
     "data": {
      "text/plain": "           ID                                               name  \\\n0  1000002330                    The Songs of Adelaide & Abullah   \n1  1000003930      Greeting From Earth: ZGAC Arts Capsule For ET   \n2  1000004038                                     Where is Hank?   \n3  1000007540  ToshiCapital Rekordz Needs Help to Complete Album   \n4  1000011046  Community Film Project: The Art of Neighborhoo...   \n\n         category main_category currency             deadline     goal  \\\n0          Poetry    Publishing      GBP  2015-10-09 00:00:00   1000.0   \n1  Narrative Film  Film & Video      USD  2017-11-01 00:00:00  30000.0   \n2  Narrative Film  Film & Video      USD  2013-02-26 00:00:00  45000.0   \n3           Music         Music      USD  2012-04-16 00:00:00   5000.0   \n4    Film & Video  Film & Video      USD  2015-08-29 00:00:00  19500.0   \n\n              launched  pledged     state  backers country  usd pledged  \\\n0  2015-08-11 12:12:28      0.0    failed        0      GB          0.0   \n1  2017-09-02 04:43:57   2421.0    failed       15      US        100.0   \n2  2013-01-12 00:20:50    220.0    failed        3      US        220.0   \n3  2012-03-17 03:24:11      1.0    failed        1      US          1.0   \n4  2015-07-04 08:35:03   1283.0  canceled       14      US       1283.0   \n\n   usd_pledged_real  usd_goal_real  launched_year                      period  \\\n0               0.0        1533.95           2015  58 days 11:47:32.000000000   \n1            2421.0       30000.00           2017  59 days 19:16:03.000000000   \n2             220.0       45000.00           2013  44 days 23:39:10.000000000   \n3               1.0        5000.00           2012  29 days 20:35:49.000000000   \n4            1283.0       19500.00           2015  55 days 15:24:57.000000000   \n\n   funded_ratio  \n0      0.000000  \n1      0.080700  \n2      0.004889  \n3      0.000200  \n4      0.065795  ",
      "text/html": "<div>\n<style scoped>\n    .dataframe tbody tr th:only-of-type {\n        vertical-align: middle;\n    }\n\n    .dataframe tbody tr th {\n        vertical-align: top;\n    }\n\n    .dataframe thead th {\n        text-align: right;\n    }\n</style>\n<table border=\"1\" class=\"dataframe\">\n  <thead>\n    <tr style=\"text-align: right;\">\n      <th></th>\n      <th>ID</th>\n      <th>name</th>\n      <th>category</th>\n      <th>main_category</th>\n      <th>currency</th>\n      <th>deadline</th>\n      <th>goal</th>\n      <th>launched</th>\n      <th>pledged</th>\n      <th>state</th>\n      <th>backers</th>\n      <th>country</th>\n      <th>usd pledged</th>\n      <th>usd_pledged_real</th>\n      <th>usd_goal_real</th>\n      <th>launched_year</th>\n      <th>period</th>\n      <th>funded_ratio</th>\n    </tr>\n  </thead>\n  <tbody>\n    <tr>\n      <th>0</th>\n      <td>1000002330</td>\n      <td>The Songs of Adelaide &amp; Abullah</td>\n      <td>Poetry</td>\n      <td>Publishing</td>\n      <td>GBP</td>\n      <td>2015-10-09 00:00:00</td>\n      <td>1000.0</td>\n      <td>2015-08-11 12:12:28</td>\n      <td>0.0</td>\n      <td>failed</td>\n      <td>0</td>\n      <td>GB</td>\n      <td>0.0</td>\n      <td>0.0</td>\n      <td>1533.95</td>\n      <td>2015</td>\n      <td>58 days 11:47:32.000000000</td>\n      <td>0.000000</td>\n    </tr>\n    <tr>\n      <th>1</th>\n      <td>1000003930</td>\n      <td>Greeting From Earth: ZGAC Arts Capsule For ET</td>\n      <td>Narrative Film</td>\n      <td>Film &amp; Video</td>\n      <td>USD</td>\n      <td>2017-11-01 00:00:00</td>\n      <td>30000.0</td>\n      <td>2017-09-02 04:43:57</td>\n      <td>2421.0</td>\n      <td>failed</td>\n      <td>15</td>\n      <td>US</td>\n      <td>100.0</td>\n      <td>2421.0</td>\n      <td>30000.00</td>\n      <td>2017</td>\n      <td>59 days 19:16:03.000000000</td>\n      <td>0.080700</td>\n    </tr>\n    <tr>\n      <th>2</th>\n      <td>1000004038</td>\n      <td>Where is Hank?</td>\n      <td>Narrative Film</td>\n      <td>Film &amp; Video</td>\n      <td>USD</td>\n      <td>2013-02-26 00:00:00</td>\n      <td>45000.0</td>\n      <td>2013-01-12 00:20:50</td>\n      <td>220.0</td>\n      <td>failed</td>\n      <td>3</td>\n      <td>US</td>\n      <td>220.0</td>\n      <td>220.0</td>\n      <td>45000.00</td>\n      <td>2013</td>\n      <td>44 days 23:39:10.000000000</td>\n      <td>0.004889</td>\n    </tr>\n    <tr>\n      <th>3</th>\n      <td>1000007540</td>\n      <td>ToshiCapital Rekordz Needs Help to Complete Album</td>\n      <td>Music</td>\n      <td>Music</td>\n      <td>USD</td>\n      <td>2012-04-16 00:00:00</td>\n      <td>5000.0</td>\n      <td>2012-03-17 03:24:11</td>\n      <td>1.0</td>\n      <td>failed</td>\n      <td>1</td>\n      <td>US</td>\n      <td>1.0</td>\n      <td>1.0</td>\n      <td>5000.00</td>\n      <td>2012</td>\n      <td>29 days 20:35:49.000000000</td>\n      <td>0.000200</td>\n    </tr>\n    <tr>\n      <th>4</th>\n      <td>1000011046</td>\n      <td>Community Film Project: The Art of Neighborhoo...</td>\n      <td>Film &amp; Video</td>\n      <td>Film &amp; Video</td>\n      <td>USD</td>\n      <td>2015-08-29 00:00:00</td>\n      <td>19500.0</td>\n      <td>2015-07-04 08:35:03</td>\n      <td>1283.0</td>\n      <td>canceled</td>\n      <td>14</td>\n      <td>US</td>\n      <td>1283.0</td>\n      <td>1283.0</td>\n      <td>19500.00</td>\n      <td>2015</td>\n      <td>55 days 15:24:57.000000000</td>\n      <td>0.065795</td>\n    </tr>\n  </tbody>\n</table>\n</div>"
     },
     "metadata": {},
     "execution_count": 3
    }
   ],
   "source": [
    "# GENERAL : Read the data set\n",
    "kickstarter = pd.read_csv('ks-projects-201801-clean.csv')\n",
    "kickstarter.head()"
   ]
  },
  {
   "cell_type": "code",
   "execution_count": 4,
   "metadata": {},
   "outputs": [
    {
     "output_type": "execute_result",
     "data": {
      "text/plain": "  main_category     state  backers country  usd_pledged_real  usd_goal_real  \\\n0    Publishing    failed        0      GB               0.0        1533.95   \n1  Film & Video    failed       15      US            2421.0       30000.00   \n2  Film & Video    failed        3      US             220.0       45000.00   \n3         Music    failed        1      US               1.0        5000.00   \n4  Film & Video  canceled       14      US            1283.0       19500.00   \n\n                       period  funded_ratio  \n0  58 days 11:47:32.000000000      0.000000  \n1  59 days 19:16:03.000000000      0.080700  \n2  44 days 23:39:10.000000000      0.004889  \n3  29 days 20:35:49.000000000      0.000200  \n4  55 days 15:24:57.000000000      0.065795  ",
      "text/html": "<div>\n<style scoped>\n    .dataframe tbody tr th:only-of-type {\n        vertical-align: middle;\n    }\n\n    .dataframe tbody tr th {\n        vertical-align: top;\n    }\n\n    .dataframe thead th {\n        text-align: right;\n    }\n</style>\n<table border=\"1\" class=\"dataframe\">\n  <thead>\n    <tr style=\"text-align: right;\">\n      <th></th>\n      <th>main_category</th>\n      <th>state</th>\n      <th>backers</th>\n      <th>country</th>\n      <th>usd_pledged_real</th>\n      <th>usd_goal_real</th>\n      <th>period</th>\n      <th>funded_ratio</th>\n    </tr>\n  </thead>\n  <tbody>\n    <tr>\n      <th>0</th>\n      <td>Publishing</td>\n      <td>failed</td>\n      <td>0</td>\n      <td>GB</td>\n      <td>0.0</td>\n      <td>1533.95</td>\n      <td>58 days 11:47:32.000000000</td>\n      <td>0.000000</td>\n    </tr>\n    <tr>\n      <th>1</th>\n      <td>Film &amp; Video</td>\n      <td>failed</td>\n      <td>15</td>\n      <td>US</td>\n      <td>2421.0</td>\n      <td>30000.00</td>\n      <td>59 days 19:16:03.000000000</td>\n      <td>0.080700</td>\n    </tr>\n    <tr>\n      <th>2</th>\n      <td>Film &amp; Video</td>\n      <td>failed</td>\n      <td>3</td>\n      <td>US</td>\n      <td>220.0</td>\n      <td>45000.00</td>\n      <td>44 days 23:39:10.000000000</td>\n      <td>0.004889</td>\n    </tr>\n    <tr>\n      <th>3</th>\n      <td>Music</td>\n      <td>failed</td>\n      <td>1</td>\n      <td>US</td>\n      <td>1.0</td>\n      <td>5000.00</td>\n      <td>29 days 20:35:49.000000000</td>\n      <td>0.000200</td>\n    </tr>\n    <tr>\n      <th>4</th>\n      <td>Film &amp; Video</td>\n      <td>canceled</td>\n      <td>14</td>\n      <td>US</td>\n      <td>1283.0</td>\n      <td>19500.00</td>\n      <td>55 days 15:24:57.000000000</td>\n      <td>0.065795</td>\n    </tr>\n  </tbody>\n</table>\n</div>"
     },
     "metadata": {},
     "execution_count": 4
    }
   ],
   "source": [
    "# Remove columns that won't be used\n",
    "kickstarter = kickstarter.drop(['category','ID', 'name', 'deadline', 'launched', 'launched_year', 'currency', 'goal', 'pledged', 'usd pledged'], axis=1)\n",
    "kickstarter.head()"
   ]
  },
  {
   "cell_type": "code",
   "execution_count": 5,
   "metadata": {},
   "outputs": [
    {
     "output_type": "execute_result",
     "data": {
      "text/plain": "  main_category  state  backers country  usd_pledged_real  usd_goal_real  \\\n0    Publishing      0        0      GB               0.0        1533.95   \n1  Film & Video      0       15      US            2421.0       30000.00   \n2  Film & Video      0        3      US             220.0       45000.00   \n3         Music      0        1      US               1.0        5000.00   \n4  Film & Video      0       14      US            1283.0       19500.00   \n\n                       period  funded_ratio  \n0  58 days 11:47:32.000000000      0.000000  \n1  59 days 19:16:03.000000000      0.080700  \n2  44 days 23:39:10.000000000      0.004889  \n3  29 days 20:35:49.000000000      0.000200  \n4  55 days 15:24:57.000000000      0.065795  ",
      "text/html": "<div>\n<style scoped>\n    .dataframe tbody tr th:only-of-type {\n        vertical-align: middle;\n    }\n\n    .dataframe tbody tr th {\n        vertical-align: top;\n    }\n\n    .dataframe thead th {\n        text-align: right;\n    }\n</style>\n<table border=\"1\" class=\"dataframe\">\n  <thead>\n    <tr style=\"text-align: right;\">\n      <th></th>\n      <th>main_category</th>\n      <th>state</th>\n      <th>backers</th>\n      <th>country</th>\n      <th>usd_pledged_real</th>\n      <th>usd_goal_real</th>\n      <th>period</th>\n      <th>funded_ratio</th>\n    </tr>\n  </thead>\n  <tbody>\n    <tr>\n      <th>0</th>\n      <td>Publishing</td>\n      <td>0</td>\n      <td>0</td>\n      <td>GB</td>\n      <td>0.0</td>\n      <td>1533.95</td>\n      <td>58 days 11:47:32.000000000</td>\n      <td>0.000000</td>\n    </tr>\n    <tr>\n      <th>1</th>\n      <td>Film &amp; Video</td>\n      <td>0</td>\n      <td>15</td>\n      <td>US</td>\n      <td>2421.0</td>\n      <td>30000.00</td>\n      <td>59 days 19:16:03.000000000</td>\n      <td>0.080700</td>\n    </tr>\n    <tr>\n      <th>2</th>\n      <td>Film &amp; Video</td>\n      <td>0</td>\n      <td>3</td>\n      <td>US</td>\n      <td>220.0</td>\n      <td>45000.00</td>\n      <td>44 days 23:39:10.000000000</td>\n      <td>0.004889</td>\n    </tr>\n    <tr>\n      <th>3</th>\n      <td>Music</td>\n      <td>0</td>\n      <td>1</td>\n      <td>US</td>\n      <td>1.0</td>\n      <td>5000.00</td>\n      <td>29 days 20:35:49.000000000</td>\n      <td>0.000200</td>\n    </tr>\n    <tr>\n      <th>4</th>\n      <td>Film &amp; Video</td>\n      <td>0</td>\n      <td>14</td>\n      <td>US</td>\n      <td>1283.0</td>\n      <td>19500.00</td>\n      <td>55 days 15:24:57.000000000</td>\n      <td>0.065795</td>\n    </tr>\n  </tbody>\n</table>\n</div>"
     },
     "metadata": {},
     "execution_count": 5
    }
   ],
   "source": [
    "# Convert state column to numbers\n",
    "cleanup_state = {\"state\": {\"failed\": 0, \"canceled\": 0, \"successful\": 1}}\n",
    "kickstarter.replace(cleanup_state, inplace=True)\n",
    "kickstarter.head()"
   ]
  },
  {
   "cell_type": "code",
   "execution_count": 10,
   "metadata": {},
   "outputs": [
    {
     "output_type": "execute_result",
     "data": {
      "text/plain": "main_category                       Publishing\nstate                                        0\nbackers                                      0\ncountry                                     GB\nusd_pledged_real                             0\nusd_goal_real                          1533.95\nperiod              58 days 11:47:32.000000000\nfunded_ratio                                 0\nName: 0, dtype: object"
     },
     "metadata": {},
     "execution_count": 10
    }
   ],
   "source": [
    "kicstarter_first_data = kickstarter.iloc[0]\n",
    "kicstarter_first_data"
   ]
  }
 ],
 "metadata": {
  "language_info": {
   "codemirror_mode": {
    "name": "ipython",
    "version": 3
   },
   "file_extension": ".py",
   "mimetype": "text/x-python",
   "name": "python",
   "nbconvert_exporter": "python",
   "pygments_lexer": "ipython3",
   "version": "3.7.7-final"
  },
  "orig_nbformat": 2,
  "kernelspec": {
   "name": "python37764bittfcondacb9473150141438aac76f616c90c56d5",
   "display_name": "Python 3.7.7 64-bit ('tf': conda)"
  }
 },
 "nbformat": 4,
 "nbformat_minor": 2
}