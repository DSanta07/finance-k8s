{
 "cells": [
  {
   "cell_type": "markdown",
   "metadata": {},
   "source": [
    "# Kickstarter Prediction with Model v1"
   ]
  },
  {
   "cell_type": "code",
   "execution_count": 1,
   "metadata": {},
   "outputs": [],
   "source": [
    "#Import libraries \n",
    "import pandas as pd\n",
    "import numpy as np\n",
    "from pickle import load\n",
    "import tensorflow as tf\n",
    "from tensorflow import keras\n",
    "import os"
   ]
  },
  {
   "cell_type": "markdown",
   "metadata": {},
   "source": [
    "### Define the dummy input as a dictionary"
   ]
  },
  {
   "cell_type": "code",
   "execution_count": 2,
   "metadata": {},
   "outputs": [],
   "source": [
    "dummy_input = {\n",
    "  \"main_category\": \"Publishing\",\n",
    "  \"backers\": 224,\n",
    "  \"country\": \"US\",\n",
    "  \"usd_pledged_real\": 52375.0,\n",
    "  \"usd_goal_real\": 50000.00,\n",
    "  \"period\": 34,\n",
    "  \"funded_ratio\": 1.0475\n",
    "}"
   ]
  },
  {
   "cell_type": "code",
   "execution_count": 3,
   "metadata": {},
   "outputs": [],
   "source": [
    "# Define in a list the categories for prediction diccionary\n",
    "country_categories = ['country_GB', 'country_Other', 'country_US']\n",
    "main_categories = [\n",
    "    'main_category_Art',\n",
    "    'main_category_Comics',\n",
    "    'main_category_Crafts',\n",
    "    'main_category_Dance',\n",
    "    'main_category_Design',\n",
    "    'main_category_Fashion',\n",
    "    'main_category_Film & Video',\n",
    "    'main_category_Food',\n",
    "    'main_category_Games',\n",
    "    'main_category_Journalism',\n",
    "    'main_category_Music',\n",
    "    'main_category_Photography',\n",
    "    'main_category_Publishing',\n",
    "    'main_category_Technology',\n",
    "    'main_category_Theater'\n",
    "]"
   ]
  },
  {
   "cell_type": "code",
   "execution_count": 4,
   "metadata": {},
   "outputs": [],
   "source": [
    "def one_hot_encoding(raw_prediction_input, categorical_list, category_key):\n",
    "    res = [i for i in categorical_list if raw_prediction_input[category_key] in i]\n",
    "    print(res)\n",
    "    for i in categorical_list:\n",
    "        raw_prediction_input[i] = 0\n",
    "    raw_prediction_input[res[0]] = 1\n",
    "    del raw_prediction_input[category_key]\n",
    "    return raw_prediction_input"
   ]
  },
  {
   "cell_type": "code",
   "execution_count": 5,
   "metadata": {},
   "outputs": [
    {
     "output_type": "stream",
     "name": "stdout",
     "text": "['country_US']\n['main_category_Publishing']\n"
    }
   ],
   "source": [
    "country_one_hot_input = one_hot_encoding(dummy_input, country_categories, 'country')\n",
    "complete_one_hot_input = one_hot_encoding(dummy_input, main_categories, 'main_category')"
   ]
  },
  {
   "cell_type": "code",
   "execution_count": 6,
   "metadata": {},
   "outputs": [
    {
     "output_type": "execute_result",
     "data": {
      "text/plain": "[224,\n 52375.0,\n 50000.0,\n 34,\n 1.0475,\n 0,\n 0,\n 1,\n 0,\n 0,\n 0,\n 0,\n 0,\n 0,\n 0,\n 0,\n 0,\n 0,\n 0,\n 0,\n 1,\n 0,\n 0]"
     },
     "metadata": {},
     "execution_count": 6
    }
   ],
   "source": [
    "# Transform diccionary to list \n",
    "to_predict_input_list = []\n",
    "for key, value in complete_one_hot_input.items():\n",
    "    temp = value\n",
    "    to_predict_input_list.append(temp)\n",
    "to_predict_input_list"
   ]
  },
  {
   "cell_type": "markdown",
   "metadata": {},
   "source": [
    "### Load scaler"
   ]
  },
  {
   "cell_type": "code",
   "execution_count": 7,
   "metadata": {},
   "outputs": [],
   "source": [
    "scaler = load(open('scaler_kickstarter_v1.pkl', 'rb'))"
   ]
  },
  {
   "cell_type": "code",
   "execution_count": 8,
   "metadata": {},
   "outputs": [
    {
     "output_type": "execute_result",
     "data": {
      "text/plain": "array([[2.2400e+02, 5.2375e+04, 5.0000e+04, 3.4000e+01, 1.0475e+00,\n        0.0000e+00, 0.0000e+00, 1.0000e+00, 0.0000e+00, 0.0000e+00,\n        0.0000e+00, 0.0000e+00, 0.0000e+00, 0.0000e+00, 0.0000e+00,\n        0.0000e+00, 0.0000e+00, 0.0000e+00, 0.0000e+00, 0.0000e+00,\n        1.0000e+00, 0.0000e+00, 0.0000e+00]])"
     },
     "metadata": {},
     "execution_count": 8
    }
   ],
   "source": [
    "to_predict_input_array = np.array([to_predict_input_list])\n",
    "to_predict_input_array"
   ]
  },
  {
   "cell_type": "code",
   "execution_count": 9,
   "metadata": {},
   "outputs": [
    {
     "output_type": "execute_result",
     "data": {
      "text/plain": "array([[ 0.07591668,  0.37222771,  0.01306033,  0.16203608, -0.01084611,\n        -0.31643483, -0.37326324,  0.52071169, -0.28996706, -0.18227229,\n        -0.15027646, -0.10889338, -0.29529599, -0.24527386, -0.449739  ,\n        -0.25726268, -0.32357014, -0.10739067, -0.40551388, -0.16878094,\n         2.95170904, -0.29077066, -0.18533849]])"
     },
     "metadata": {},
     "execution_count": 9
    }
   ],
   "source": [
    "standardized_input_array = scaler.transform(to_predict_input_array)\n",
    "standardized_input_array"
   ]
  },
  {
   "cell_type": "code",
   "execution_count": 10,
   "metadata": {},
   "outputs": [
    {
     "output_type": "execute_result",
     "data": {
      "text/plain": "(1, 23)"
     },
     "metadata": {},
     "execution_count": 10
    }
   ],
   "source": [
    "standardized_input_array.shape"
   ]
  },
  {
   "cell_type": "markdown",
   "metadata": {},
   "source": [
    "### Load the already trained model v1"
   ]
  },
  {
   "cell_type": "code",
   "execution_count": 11,
   "metadata": {},
   "outputs": [],
   "source": [
    "new_model = tf.keras.models.load_model('saved_model\\kickstarter_v1')"
   ]
  },
  {
   "cell_type": "markdown",
   "metadata": {},
   "source": [
    "### Predict the input with the trained model"
   ]
  },
  {
   "cell_type": "code",
   "execution_count": 12,
   "metadata": {},
   "outputs": [
    {
     "output_type": "execute_result",
     "data": {
      "text/plain": "array([[0.03170798, 0.968292  ]], dtype=float32)"
     },
     "metadata": {},
     "execution_count": 12
    }
   ],
   "source": [
    "# First value of the array is the probability that will fail\n",
    "# Second value of the array means the probability to succeed\n",
    "prediction = new_model.predict(standardized_input_array)\n",
    "prediction"
   ]
  },
  {
   "cell_type": "code",
   "execution_count": 13,
   "metadata": {},
   "outputs": [
    {
     "output_type": "execute_result",
     "data": {
      "text/plain": "0.968292"
     },
     "metadata": {},
     "execution_count": 13
    }
   ],
   "source": [
    "prediction[0,1]"
   ]
  },
  {
   "cell_type": "code",
   "execution_count": null,
   "metadata": {},
   "outputs": [],
   "source": []
  }
 ],
 "metadata": {
  "language_info": {
   "codemirror_mode": {
    "name": "ipython",
    "version": 3
   },
   "file_extension": ".py",
   "mimetype": "text/x-python",
   "name": "python",
   "nbconvert_exporter": "python",
   "pygments_lexer": "ipython3",
   "version": "3.7.7-final"
  },
  "orig_nbformat": 2,
  "kernelspec": {
   "name": "python37764bittfcondacb9473150141438aac76f616c90c56d5",
   "display_name": "Python 3.7.7 64-bit ('tf': conda)"
  }
 },
 "nbformat": 4,
 "nbformat_minor": 2
}